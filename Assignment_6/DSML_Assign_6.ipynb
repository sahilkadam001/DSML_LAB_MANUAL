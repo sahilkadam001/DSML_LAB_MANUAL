{
  "nbformat": 4,
  "nbformat_minor": 0,
  "metadata": {
    "colab": {
      "provenance": []
    },
    "kernelspec": {
      "name": "python3",
      "display_name": "Python 3"
    },
    "language_info": {
      "name": "python"
    }
  },
  "cells": [
    {
      "cell_type": "code",
      "execution_count": null,
      "metadata": {
        "id": "wJDq9XH2RzXn"
      },
      "outputs": [],
      "source": [
        "# Assignment on Regression technique.\n",
        "# Download temperature data from below link.\n",
        "# https://www.kaggle.com/venky73/temperaturesof-india?select=temperatures.csv\n",
        "# This data consists of temperatures of INDIA averaging the temperatures of all places month\n",
        "# wise. Temperatures values are recorded in CELSIUS\n",
        "# a) Apply Linear Regression using suitable library function and predict the Month-wise\n",
        "# temperature.\n",
        "# b) Assess the performance of regression models using MSE, MAE and R-Square metrics\n",
        "# c) Visualize simple regression model."
      ]
    },
    {
      "cell_type": "code",
      "source": [
        "import numpy as np\n",
        "import pandas as pd\n",
        "import matplotlib.pyplot as plt\n",
        "import seaborn as sns"
      ],
      "metadata": {
        "id": "Ed5cO8rdTCps"
      },
      "execution_count": null,
      "outputs": []
    },
    {
      "cell_type": "code",
      "source": [
        "data = pd.read_csv('/content/temperatures.csv')"
      ],
      "metadata": {
        "id": "zmkbm5-oUuro"
      },
      "execution_count": null,
      "outputs": []
    },
    {
      "cell_type": "code",
      "source": [
        "data.head()"
      ],
      "metadata": {
        "colab": {
          "base_uri": "https://localhost:8080/",
          "height": 206
        },
        "id": "vUy6y_UfVlVk",
        "outputId": "e3cfad63-c45d-48ee-f664-004f461628b5"
      },
      "execution_count": null,
      "outputs": [
        {
          "output_type": "execute_result",
          "data": {
            "text/plain": [
              "   YEAR    JAN    FEB    MAR    APR    MAY    JUN    JUL    AUG    SEP    OCT  \\\n",
              "0  1901  22.40  24.14  29.07  31.91  33.41  33.18  31.21  30.39  30.47  29.97   \n",
              "1  1902  24.93  26.58  29.77  31.78  33.73  32.91  30.92  30.73  29.80  29.12   \n",
              "2  1903  23.44  25.03  27.83  31.39  32.91  33.00  31.34  29.98  29.85  29.04   \n",
              "3  1904  22.50  24.73  28.21  32.02  32.64  32.07  30.36  30.09  30.04  29.20   \n",
              "4  1905  22.00  22.83  26.68  30.01  33.32  33.25  31.44  30.68  30.12  30.67   \n",
              "\n",
              "     NOV    DEC  ANNUAL  JAN-FEB  MAR-MAY  JUN-SEP  OCT-DEC  \n",
              "0  27.31  24.49   28.96    23.27    31.46    31.27    27.25  \n",
              "1  26.31  24.04   29.22    25.75    31.76    31.09    26.49  \n",
              "2  26.08  23.65   28.47    24.24    30.71    30.92    26.26  \n",
              "3  26.36  23.63   28.49    23.62    30.95    30.66    26.40  \n",
              "4  27.52  23.82   28.30    22.25    30.00    31.33    26.57  "
            ],
            "text/html": [
              "\n",
              "  <div id=\"df-3f846670-346d-4e36-8499-a32806d30577\" class=\"colab-df-container\">\n",
              "    <div>\n",
              "<style scoped>\n",
              "    .dataframe tbody tr th:only-of-type {\n",
              "        vertical-align: middle;\n",
              "    }\n",
              "\n",
              "    .dataframe tbody tr th {\n",
              "        vertical-align: top;\n",
              "    }\n",
              "\n",
              "    .dataframe thead th {\n",
              "        text-align: right;\n",
              "    }\n",
              "</style>\n",
              "<table border=\"1\" class=\"dataframe\">\n",
              "  <thead>\n",
              "    <tr style=\"text-align: right;\">\n",
              "      <th></th>\n",
              "      <th>YEAR</th>\n",
              "      <th>JAN</th>\n",
              "      <th>FEB</th>\n",
              "      <th>MAR</th>\n",
              "      <th>APR</th>\n",
              "      <th>MAY</th>\n",
              "      <th>JUN</th>\n",
              "      <th>JUL</th>\n",
              "      <th>AUG</th>\n",
              "      <th>SEP</th>\n",
              "      <th>OCT</th>\n",
              "      <th>NOV</th>\n",
              "      <th>DEC</th>\n",
              "      <th>ANNUAL</th>\n",
              "      <th>JAN-FEB</th>\n",
              "      <th>MAR-MAY</th>\n",
              "      <th>JUN-SEP</th>\n",
              "      <th>OCT-DEC</th>\n",
              "    </tr>\n",
              "  </thead>\n",
              "  <tbody>\n",
              "    <tr>\n",
              "      <th>0</th>\n",
              "      <td>1901</td>\n",
              "      <td>22.40</td>\n",
              "      <td>24.14</td>\n",
              "      <td>29.07</td>\n",
              "      <td>31.91</td>\n",
              "      <td>33.41</td>\n",
              "      <td>33.18</td>\n",
              "      <td>31.21</td>\n",
              "      <td>30.39</td>\n",
              "      <td>30.47</td>\n",
              "      <td>29.97</td>\n",
              "      <td>27.31</td>\n",
              "      <td>24.49</td>\n",
              "      <td>28.96</td>\n",
              "      <td>23.27</td>\n",
              "      <td>31.46</td>\n",
              "      <td>31.27</td>\n",
              "      <td>27.25</td>\n",
              "    </tr>\n",
              "    <tr>\n",
              "      <th>1</th>\n",
              "      <td>1902</td>\n",
              "      <td>24.93</td>\n",
              "      <td>26.58</td>\n",
              "      <td>29.77</td>\n",
              "      <td>31.78</td>\n",
              "      <td>33.73</td>\n",
              "      <td>32.91</td>\n",
              "      <td>30.92</td>\n",
              "      <td>30.73</td>\n",
              "      <td>29.80</td>\n",
              "      <td>29.12</td>\n",
              "      <td>26.31</td>\n",
              "      <td>24.04</td>\n",
              "      <td>29.22</td>\n",
              "      <td>25.75</td>\n",
              "      <td>31.76</td>\n",
              "      <td>31.09</td>\n",
              "      <td>26.49</td>\n",
              "    </tr>\n",
              "    <tr>\n",
              "      <th>2</th>\n",
              "      <td>1903</td>\n",
              "      <td>23.44</td>\n",
              "      <td>25.03</td>\n",
              "      <td>27.83</td>\n",
              "      <td>31.39</td>\n",
              "      <td>32.91</td>\n",
              "      <td>33.00</td>\n",
              "      <td>31.34</td>\n",
              "      <td>29.98</td>\n",
              "      <td>29.85</td>\n",
              "      <td>29.04</td>\n",
              "      <td>26.08</td>\n",
              "      <td>23.65</td>\n",
              "      <td>28.47</td>\n",
              "      <td>24.24</td>\n",
              "      <td>30.71</td>\n",
              "      <td>30.92</td>\n",
              "      <td>26.26</td>\n",
              "    </tr>\n",
              "    <tr>\n",
              "      <th>3</th>\n",
              "      <td>1904</td>\n",
              "      <td>22.50</td>\n",
              "      <td>24.73</td>\n",
              "      <td>28.21</td>\n",
              "      <td>32.02</td>\n",
              "      <td>32.64</td>\n",
              "      <td>32.07</td>\n",
              "      <td>30.36</td>\n",
              "      <td>30.09</td>\n",
              "      <td>30.04</td>\n",
              "      <td>29.20</td>\n",
              "      <td>26.36</td>\n",
              "      <td>23.63</td>\n",
              "      <td>28.49</td>\n",
              "      <td>23.62</td>\n",
              "      <td>30.95</td>\n",
              "      <td>30.66</td>\n",
              "      <td>26.40</td>\n",
              "    </tr>\n",
              "    <tr>\n",
              "      <th>4</th>\n",
              "      <td>1905</td>\n",
              "      <td>22.00</td>\n",
              "      <td>22.83</td>\n",
              "      <td>26.68</td>\n",
              "      <td>30.01</td>\n",
              "      <td>33.32</td>\n",
              "      <td>33.25</td>\n",
              "      <td>31.44</td>\n",
              "      <td>30.68</td>\n",
              "      <td>30.12</td>\n",
              "      <td>30.67</td>\n",
              "      <td>27.52</td>\n",
              "      <td>23.82</td>\n",
              "      <td>28.30</td>\n",
              "      <td>22.25</td>\n",
              "      <td>30.00</td>\n",
              "      <td>31.33</td>\n",
              "      <td>26.57</td>\n",
              "    </tr>\n",
              "  </tbody>\n",
              "</table>\n",
              "</div>\n",
              "    <div class=\"colab-df-buttons\">\n",
              "\n",
              "  <div class=\"colab-df-container\">\n",
              "    <button class=\"colab-df-convert\" onclick=\"convertToInteractive('df-3f846670-346d-4e36-8499-a32806d30577')\"\n",
              "            title=\"Convert this dataframe to an interactive table.\"\n",
              "            style=\"display:none;\">\n",
              "\n",
              "  <svg xmlns=\"http://www.w3.org/2000/svg\" height=\"24px\" viewBox=\"0 -960 960 960\">\n",
              "    <path d=\"M120-120v-720h720v720H120Zm60-500h600v-160H180v160Zm220 220h160v-160H400v160Zm0 220h160v-160H400v160ZM180-400h160v-160H180v160Zm440 0h160v-160H620v160ZM180-180h160v-160H180v160Zm440 0h160v-160H620v160Z\"/>\n",
              "  </svg>\n",
              "    </button>\n",
              "\n",
              "  <style>\n",
              "    .colab-df-container {\n",
              "      display:flex;\n",
              "      gap: 12px;\n",
              "    }\n",
              "\n",
              "    .colab-df-convert {\n",
              "      background-color: #E8F0FE;\n",
              "      border: none;\n",
              "      border-radius: 50%;\n",
              "      cursor: pointer;\n",
              "      display: none;\n",
              "      fill: #1967D2;\n",
              "      height: 32px;\n",
              "      padding: 0 0 0 0;\n",
              "      width: 32px;\n",
              "    }\n",
              "\n",
              "    .colab-df-convert:hover {\n",
              "      background-color: #E2EBFA;\n",
              "      box-shadow: 0px 1px 2px rgba(60, 64, 67, 0.3), 0px 1px 3px 1px rgba(60, 64, 67, 0.15);\n",
              "      fill: #174EA6;\n",
              "    }\n",
              "\n",
              "    .colab-df-buttons div {\n",
              "      margin-bottom: 4px;\n",
              "    }\n",
              "\n",
              "    [theme=dark] .colab-df-convert {\n",
              "      background-color: #3B4455;\n",
              "      fill: #D2E3FC;\n",
              "    }\n",
              "\n",
              "    [theme=dark] .colab-df-convert:hover {\n",
              "      background-color: #434B5C;\n",
              "      box-shadow: 0px 1px 3px 1px rgba(0, 0, 0, 0.15);\n",
              "      filter: drop-shadow(0px 1px 2px rgba(0, 0, 0, 0.3));\n",
              "      fill: #FFFFFF;\n",
              "    }\n",
              "  </style>\n",
              "\n",
              "    <script>\n",
              "      const buttonEl =\n",
              "        document.querySelector('#df-3f846670-346d-4e36-8499-a32806d30577 button.colab-df-convert');\n",
              "      buttonEl.style.display =\n",
              "        google.colab.kernel.accessAllowed ? 'block' : 'none';\n",
              "\n",
              "      async function convertToInteractive(key) {\n",
              "        const element = document.querySelector('#df-3f846670-346d-4e36-8499-a32806d30577');\n",
              "        const dataTable =\n",
              "          await google.colab.kernel.invokeFunction('convertToInteractive',\n",
              "                                                    [key], {});\n",
              "        if (!dataTable) return;\n",
              "\n",
              "        const docLinkHtml = 'Like what you see? Visit the ' +\n",
              "          '<a target=\"_blank\" href=https://colab.research.google.com/notebooks/data_table.ipynb>data table notebook</a>'\n",
              "          + ' to learn more about interactive tables.';\n",
              "        element.innerHTML = '';\n",
              "        dataTable['output_type'] = 'display_data';\n",
              "        await google.colab.output.renderOutput(dataTable, element);\n",
              "        const docLink = document.createElement('div');\n",
              "        docLink.innerHTML = docLinkHtml;\n",
              "        element.appendChild(docLink);\n",
              "      }\n",
              "    </script>\n",
              "  </div>\n",
              "\n",
              "\n",
              "<div id=\"df-f88aa370-1f3b-4c38-afa8-a036b970a26f\">\n",
              "  <button class=\"colab-df-quickchart\" onclick=\"quickchart('df-f88aa370-1f3b-4c38-afa8-a036b970a26f')\"\n",
              "            title=\"Suggest charts\"\n",
              "            style=\"display:none;\">\n",
              "\n",
              "<svg xmlns=\"http://www.w3.org/2000/svg\" height=\"24px\"viewBox=\"0 0 24 24\"\n",
              "     width=\"24px\">\n",
              "    <g>\n",
              "        <path d=\"M19 3H5c-1.1 0-2 .9-2 2v14c0 1.1.9 2 2 2h14c1.1 0 2-.9 2-2V5c0-1.1-.9-2-2-2zM9 17H7v-7h2v7zm4 0h-2V7h2v10zm4 0h-2v-4h2v4z\"/>\n",
              "    </g>\n",
              "</svg>\n",
              "  </button>\n",
              "\n",
              "<style>\n",
              "  .colab-df-quickchart {\n",
              "      --bg-color: #E8F0FE;\n",
              "      --fill-color: #1967D2;\n",
              "      --hover-bg-color: #E2EBFA;\n",
              "      --hover-fill-color: #174EA6;\n",
              "      --disabled-fill-color: #AAA;\n",
              "      --disabled-bg-color: #DDD;\n",
              "  }\n",
              "\n",
              "  [theme=dark] .colab-df-quickchart {\n",
              "      --bg-color: #3B4455;\n",
              "      --fill-color: #D2E3FC;\n",
              "      --hover-bg-color: #434B5C;\n",
              "      --hover-fill-color: #FFFFFF;\n",
              "      --disabled-bg-color: #3B4455;\n",
              "      --disabled-fill-color: #666;\n",
              "  }\n",
              "\n",
              "  .colab-df-quickchart {\n",
              "    background-color: var(--bg-color);\n",
              "    border: none;\n",
              "    border-radius: 50%;\n",
              "    cursor: pointer;\n",
              "    display: none;\n",
              "    fill: var(--fill-color);\n",
              "    height: 32px;\n",
              "    padding: 0;\n",
              "    width: 32px;\n",
              "  }\n",
              "\n",
              "  .colab-df-quickchart:hover {\n",
              "    background-color: var(--hover-bg-color);\n",
              "    box-shadow: 0 1px 2px rgba(60, 64, 67, 0.3), 0 1px 3px 1px rgba(60, 64, 67, 0.15);\n",
              "    fill: var(--button-hover-fill-color);\n",
              "  }\n",
              "\n",
              "  .colab-df-quickchart-complete:disabled,\n",
              "  .colab-df-quickchart-complete:disabled:hover {\n",
              "    background-color: var(--disabled-bg-color);\n",
              "    fill: var(--disabled-fill-color);\n",
              "    box-shadow: none;\n",
              "  }\n",
              "\n",
              "  .colab-df-spinner {\n",
              "    border: 2px solid var(--fill-color);\n",
              "    border-color: transparent;\n",
              "    border-bottom-color: var(--fill-color);\n",
              "    animation:\n",
              "      spin 1s steps(1) infinite;\n",
              "  }\n",
              "\n",
              "  @keyframes spin {\n",
              "    0% {\n",
              "      border-color: transparent;\n",
              "      border-bottom-color: var(--fill-color);\n",
              "      border-left-color: var(--fill-color);\n",
              "    }\n",
              "    20% {\n",
              "      border-color: transparent;\n",
              "      border-left-color: var(--fill-color);\n",
              "      border-top-color: var(--fill-color);\n",
              "    }\n",
              "    30% {\n",
              "      border-color: transparent;\n",
              "      border-left-color: var(--fill-color);\n",
              "      border-top-color: var(--fill-color);\n",
              "      border-right-color: var(--fill-color);\n",
              "    }\n",
              "    40% {\n",
              "      border-color: transparent;\n",
              "      border-right-color: var(--fill-color);\n",
              "      border-top-color: var(--fill-color);\n",
              "    }\n",
              "    60% {\n",
              "      border-color: transparent;\n",
              "      border-right-color: var(--fill-color);\n",
              "    }\n",
              "    80% {\n",
              "      border-color: transparent;\n",
              "      border-right-color: var(--fill-color);\n",
              "      border-bottom-color: var(--fill-color);\n",
              "    }\n",
              "    90% {\n",
              "      border-color: transparent;\n",
              "      border-bottom-color: var(--fill-color);\n",
              "    }\n",
              "  }\n",
              "</style>\n",
              "\n",
              "  <script>\n",
              "    async function quickchart(key) {\n",
              "      const quickchartButtonEl =\n",
              "        document.querySelector('#' + key + ' button');\n",
              "      quickchartButtonEl.disabled = true;  // To prevent multiple clicks.\n",
              "      quickchartButtonEl.classList.add('colab-df-spinner');\n",
              "      try {\n",
              "        const charts = await google.colab.kernel.invokeFunction(\n",
              "            'suggestCharts', [key], {});\n",
              "      } catch (error) {\n",
              "        console.error('Error during call to suggestCharts:', error);\n",
              "      }\n",
              "      quickchartButtonEl.classList.remove('colab-df-spinner');\n",
              "      quickchartButtonEl.classList.add('colab-df-quickchart-complete');\n",
              "    }\n",
              "    (() => {\n",
              "      let quickchartButtonEl =\n",
              "        document.querySelector('#df-f88aa370-1f3b-4c38-afa8-a036b970a26f button');\n",
              "      quickchartButtonEl.style.display =\n",
              "        google.colab.kernel.accessAllowed ? 'block' : 'none';\n",
              "    })();\n",
              "  </script>\n",
              "</div>\n",
              "    </div>\n",
              "  </div>\n"
            ]
          },
          "metadata": {},
          "execution_count": 98
        }
      ]
    },
    {
      "cell_type": "code",
      "source": [
        "data.info()"
      ],
      "metadata": {
        "colab": {
          "base_uri": "https://localhost:8080/"
        },
        "id": "W2tV3qH9V8uZ",
        "outputId": "8d9309ad-64ae-4267-8283-d66638f346e2"
      },
      "execution_count": null,
      "outputs": [
        {
          "output_type": "stream",
          "name": "stdout",
          "text": [
            "<class 'pandas.core.frame.DataFrame'>\n",
            "RangeIndex: 117 entries, 0 to 116\n",
            "Data columns (total 18 columns):\n",
            " #   Column   Non-Null Count  Dtype  \n",
            "---  ------   --------------  -----  \n",
            " 0   YEAR     117 non-null    int64  \n",
            " 1   JAN      117 non-null    float64\n",
            " 2   FEB      117 non-null    float64\n",
            " 3   MAR      117 non-null    float64\n",
            " 4   APR      117 non-null    float64\n",
            " 5   MAY      117 non-null    float64\n",
            " 6   JUN      117 non-null    float64\n",
            " 7   JUL      117 non-null    float64\n",
            " 8   AUG      117 non-null    float64\n",
            " 9   SEP      117 non-null    float64\n",
            " 10  OCT      117 non-null    float64\n",
            " 11  NOV      117 non-null    float64\n",
            " 12  DEC      117 non-null    float64\n",
            " 13  ANNUAL   117 non-null    float64\n",
            " 14  JAN-FEB  117 non-null    float64\n",
            " 15  MAR-MAY  117 non-null    float64\n",
            " 16  JUN-SEP  117 non-null    float64\n",
            " 17  OCT-DEC  117 non-null    float64\n",
            "dtypes: float64(17), int64(1)\n",
            "memory usage: 16.6 KB\n"
          ]
        }
      ]
    },
    {
      "cell_type": "code",
      "source": [
        "data.describe()"
      ],
      "metadata": {
        "colab": {
          "base_uri": "https://localhost:8080/",
          "height": 320
        },
        "id": "rVrZWhRtWGT7",
        "outputId": "69889437-5f10-4f73-cb57-c6f6ad7588cd"
      },
      "execution_count": null,
      "outputs": [
        {
          "output_type": "execute_result",
          "data": {
            "text/plain": [
              "              YEAR         JAN         FEB         MAR         APR  \\\n",
              "count   117.000000  117.000000  117.000000  117.000000  117.000000   \n",
              "mean   1959.000000   23.687436   25.597863   29.085983   31.975812   \n",
              "std      33.919021    0.834588    1.150757    1.068451    0.889478   \n",
              "min    1901.000000   22.000000   22.830000   26.680000   30.010000   \n",
              "25%    1930.000000   23.100000   24.780000   28.370000   31.460000   \n",
              "50%    1959.000000   23.680000   25.480000   29.040000   31.950000   \n",
              "75%    1988.000000   24.180000   26.310000   29.610000   32.420000   \n",
              "max    2017.000000   26.940000   29.720000   32.620000   35.380000   \n",
              "\n",
              "              MAY         JUN         JUL         AUG         SEP         OCT  \\\n",
              "count  117.000000  117.000000  117.000000  117.000000  117.000000  117.000000   \n",
              "mean    33.565299   32.774274   31.035897   30.507692   30.486752   29.766581   \n",
              "std      0.724905    0.633132    0.468818    0.476312    0.544295    0.705492   \n",
              "min     31.930000   31.100000   29.760000   29.310000   29.070000   27.900000   \n",
              "25%     33.110000   32.340000   30.740000   30.180000   30.120000   29.380000   \n",
              "50%     33.510000   32.730000   31.000000   30.540000   30.520000   29.780000   \n",
              "75%     34.030000   33.180000   31.330000   30.760000   30.810000   30.170000   \n",
              "max     35.840000   34.480000   32.760000   31.840000   32.220000   32.290000   \n",
              "\n",
              "              NOV         DEC      ANNUAL     JAN-FEB     MAR-MAY     JUN-SEP  \\\n",
              "count  117.000000  117.000000  117.000000  117.000000  117.000000  117.000000   \n",
              "mean    27.285470   24.608291   29.181368   24.629573   31.517607   31.198205   \n",
              "std      0.714518    0.782644    0.555555    0.911239    0.740585    0.420508   \n",
              "min     25.700000   23.020000   28.110000   22.250000   29.920000   30.240000   \n",
              "25%     26.790000   24.040000   28.760000   24.110000   31.040000   30.920000   \n",
              "50%     27.300000   24.660000   29.090000   24.530000   31.470000   31.190000   \n",
              "75%     27.720000   25.110000   29.470000   25.150000   31.890000   31.400000   \n",
              "max     30.110000   28.010000   31.630000   28.330000   34.570000   32.410000   \n",
              "\n",
              "          OCT-DEC  \n",
              "count  117.000000  \n",
              "mean    27.208120  \n",
              "std      0.672003  \n",
              "min     25.740000  \n",
              "25%     26.700000  \n",
              "50%     27.210000  \n",
              "75%     27.610000  \n",
              "max     30.030000  "
            ],
            "text/html": [
              "\n",
              "  <div id=\"df-d340d59a-e848-449f-bc19-5682d656c846\" class=\"colab-df-container\">\n",
              "    <div>\n",
              "<style scoped>\n",
              "    .dataframe tbody tr th:only-of-type {\n",
              "        vertical-align: middle;\n",
              "    }\n",
              "\n",
              "    .dataframe tbody tr th {\n",
              "        vertical-align: top;\n",
              "    }\n",
              "\n",
              "    .dataframe thead th {\n",
              "        text-align: right;\n",
              "    }\n",
              "</style>\n",
              "<table border=\"1\" class=\"dataframe\">\n",
              "  <thead>\n",
              "    <tr style=\"text-align: right;\">\n",
              "      <th></th>\n",
              "      <th>YEAR</th>\n",
              "      <th>JAN</th>\n",
              "      <th>FEB</th>\n",
              "      <th>MAR</th>\n",
              "      <th>APR</th>\n",
              "      <th>MAY</th>\n",
              "      <th>JUN</th>\n",
              "      <th>JUL</th>\n",
              "      <th>AUG</th>\n",
              "      <th>SEP</th>\n",
              "      <th>OCT</th>\n",
              "      <th>NOV</th>\n",
              "      <th>DEC</th>\n",
              "      <th>ANNUAL</th>\n",
              "      <th>JAN-FEB</th>\n",
              "      <th>MAR-MAY</th>\n",
              "      <th>JUN-SEP</th>\n",
              "      <th>OCT-DEC</th>\n",
              "    </tr>\n",
              "  </thead>\n",
              "  <tbody>\n",
              "    <tr>\n",
              "      <th>count</th>\n",
              "      <td>117.000000</td>\n",
              "      <td>117.000000</td>\n",
              "      <td>117.000000</td>\n",
              "      <td>117.000000</td>\n",
              "      <td>117.000000</td>\n",
              "      <td>117.000000</td>\n",
              "      <td>117.000000</td>\n",
              "      <td>117.000000</td>\n",
              "      <td>117.000000</td>\n",
              "      <td>117.000000</td>\n",
              "      <td>117.000000</td>\n",
              "      <td>117.000000</td>\n",
              "      <td>117.000000</td>\n",
              "      <td>117.000000</td>\n",
              "      <td>117.000000</td>\n",
              "      <td>117.000000</td>\n",
              "      <td>117.000000</td>\n",
              "      <td>117.000000</td>\n",
              "    </tr>\n",
              "    <tr>\n",
              "      <th>mean</th>\n",
              "      <td>1959.000000</td>\n",
              "      <td>23.687436</td>\n",
              "      <td>25.597863</td>\n",
              "      <td>29.085983</td>\n",
              "      <td>31.975812</td>\n",
              "      <td>33.565299</td>\n",
              "      <td>32.774274</td>\n",
              "      <td>31.035897</td>\n",
              "      <td>30.507692</td>\n",
              "      <td>30.486752</td>\n",
              "      <td>29.766581</td>\n",
              "      <td>27.285470</td>\n",
              "      <td>24.608291</td>\n",
              "      <td>29.181368</td>\n",
              "      <td>24.629573</td>\n",
              "      <td>31.517607</td>\n",
              "      <td>31.198205</td>\n",
              "      <td>27.208120</td>\n",
              "    </tr>\n",
              "    <tr>\n",
              "      <th>std</th>\n",
              "      <td>33.919021</td>\n",
              "      <td>0.834588</td>\n",
              "      <td>1.150757</td>\n",
              "      <td>1.068451</td>\n",
              "      <td>0.889478</td>\n",
              "      <td>0.724905</td>\n",
              "      <td>0.633132</td>\n",
              "      <td>0.468818</td>\n",
              "      <td>0.476312</td>\n",
              "      <td>0.544295</td>\n",
              "      <td>0.705492</td>\n",
              "      <td>0.714518</td>\n",
              "      <td>0.782644</td>\n",
              "      <td>0.555555</td>\n",
              "      <td>0.911239</td>\n",
              "      <td>0.740585</td>\n",
              "      <td>0.420508</td>\n",
              "      <td>0.672003</td>\n",
              "    </tr>\n",
              "    <tr>\n",
              "      <th>min</th>\n",
              "      <td>1901.000000</td>\n",
              "      <td>22.000000</td>\n",
              "      <td>22.830000</td>\n",
              "      <td>26.680000</td>\n",
              "      <td>30.010000</td>\n",
              "      <td>31.930000</td>\n",
              "      <td>31.100000</td>\n",
              "      <td>29.760000</td>\n",
              "      <td>29.310000</td>\n",
              "      <td>29.070000</td>\n",
              "      <td>27.900000</td>\n",
              "      <td>25.700000</td>\n",
              "      <td>23.020000</td>\n",
              "      <td>28.110000</td>\n",
              "      <td>22.250000</td>\n",
              "      <td>29.920000</td>\n",
              "      <td>30.240000</td>\n",
              "      <td>25.740000</td>\n",
              "    </tr>\n",
              "    <tr>\n",
              "      <th>25%</th>\n",
              "      <td>1930.000000</td>\n",
              "      <td>23.100000</td>\n",
              "      <td>24.780000</td>\n",
              "      <td>28.370000</td>\n",
              "      <td>31.460000</td>\n",
              "      <td>33.110000</td>\n",
              "      <td>32.340000</td>\n",
              "      <td>30.740000</td>\n",
              "      <td>30.180000</td>\n",
              "      <td>30.120000</td>\n",
              "      <td>29.380000</td>\n",
              "      <td>26.790000</td>\n",
              "      <td>24.040000</td>\n",
              "      <td>28.760000</td>\n",
              "      <td>24.110000</td>\n",
              "      <td>31.040000</td>\n",
              "      <td>30.920000</td>\n",
              "      <td>26.700000</td>\n",
              "    </tr>\n",
              "    <tr>\n",
              "      <th>50%</th>\n",
              "      <td>1959.000000</td>\n",
              "      <td>23.680000</td>\n",
              "      <td>25.480000</td>\n",
              "      <td>29.040000</td>\n",
              "      <td>31.950000</td>\n",
              "      <td>33.510000</td>\n",
              "      <td>32.730000</td>\n",
              "      <td>31.000000</td>\n",
              "      <td>30.540000</td>\n",
              "      <td>30.520000</td>\n",
              "      <td>29.780000</td>\n",
              "      <td>27.300000</td>\n",
              "      <td>24.660000</td>\n",
              "      <td>29.090000</td>\n",
              "      <td>24.530000</td>\n",
              "      <td>31.470000</td>\n",
              "      <td>31.190000</td>\n",
              "      <td>27.210000</td>\n",
              "    </tr>\n",
              "    <tr>\n",
              "      <th>75%</th>\n",
              "      <td>1988.000000</td>\n",
              "      <td>24.180000</td>\n",
              "      <td>26.310000</td>\n",
              "      <td>29.610000</td>\n",
              "      <td>32.420000</td>\n",
              "      <td>34.030000</td>\n",
              "      <td>33.180000</td>\n",
              "      <td>31.330000</td>\n",
              "      <td>30.760000</td>\n",
              "      <td>30.810000</td>\n",
              "      <td>30.170000</td>\n",
              "      <td>27.720000</td>\n",
              "      <td>25.110000</td>\n",
              "      <td>29.470000</td>\n",
              "      <td>25.150000</td>\n",
              "      <td>31.890000</td>\n",
              "      <td>31.400000</td>\n",
              "      <td>27.610000</td>\n",
              "    </tr>\n",
              "    <tr>\n",
              "      <th>max</th>\n",
              "      <td>2017.000000</td>\n",
              "      <td>26.940000</td>\n",
              "      <td>29.720000</td>\n",
              "      <td>32.620000</td>\n",
              "      <td>35.380000</td>\n",
              "      <td>35.840000</td>\n",
              "      <td>34.480000</td>\n",
              "      <td>32.760000</td>\n",
              "      <td>31.840000</td>\n",
              "      <td>32.220000</td>\n",
              "      <td>32.290000</td>\n",
              "      <td>30.110000</td>\n",
              "      <td>28.010000</td>\n",
              "      <td>31.630000</td>\n",
              "      <td>28.330000</td>\n",
              "      <td>34.570000</td>\n",
              "      <td>32.410000</td>\n",
              "      <td>30.030000</td>\n",
              "    </tr>\n",
              "  </tbody>\n",
              "</table>\n",
              "</div>\n",
              "    <div class=\"colab-df-buttons\">\n",
              "\n",
              "  <div class=\"colab-df-container\">\n",
              "    <button class=\"colab-df-convert\" onclick=\"convertToInteractive('df-d340d59a-e848-449f-bc19-5682d656c846')\"\n",
              "            title=\"Convert this dataframe to an interactive table.\"\n",
              "            style=\"display:none;\">\n",
              "\n",
              "  <svg xmlns=\"http://www.w3.org/2000/svg\" height=\"24px\" viewBox=\"0 -960 960 960\">\n",
              "    <path d=\"M120-120v-720h720v720H120Zm60-500h600v-160H180v160Zm220 220h160v-160H400v160Zm0 220h160v-160H400v160ZM180-400h160v-160H180v160Zm440 0h160v-160H620v160ZM180-180h160v-160H180v160Zm440 0h160v-160H620v160Z\"/>\n",
              "  </svg>\n",
              "    </button>\n",
              "\n",
              "  <style>\n",
              "    .colab-df-container {\n",
              "      display:flex;\n",
              "      gap: 12px;\n",
              "    }\n",
              "\n",
              "    .colab-df-convert {\n",
              "      background-color: #E8F0FE;\n",
              "      border: none;\n",
              "      border-radius: 50%;\n",
              "      cursor: pointer;\n",
              "      display: none;\n",
              "      fill: #1967D2;\n",
              "      height: 32px;\n",
              "      padding: 0 0 0 0;\n",
              "      width: 32px;\n",
              "    }\n",
              "\n",
              "    .colab-df-convert:hover {\n",
              "      background-color: #E2EBFA;\n",
              "      box-shadow: 0px 1px 2px rgba(60, 64, 67, 0.3), 0px 1px 3px 1px rgba(60, 64, 67, 0.15);\n",
              "      fill: #174EA6;\n",
              "    }\n",
              "\n",
              "    .colab-df-buttons div {\n",
              "      margin-bottom: 4px;\n",
              "    }\n",
              "\n",
              "    [theme=dark] .colab-df-convert {\n",
              "      background-color: #3B4455;\n",
              "      fill: #D2E3FC;\n",
              "    }\n",
              "\n",
              "    [theme=dark] .colab-df-convert:hover {\n",
              "      background-color: #434B5C;\n",
              "      box-shadow: 0px 1px 3px 1px rgba(0, 0, 0, 0.15);\n",
              "      filter: drop-shadow(0px 1px 2px rgba(0, 0, 0, 0.3));\n",
              "      fill: #FFFFFF;\n",
              "    }\n",
              "  </style>\n",
              "\n",
              "    <script>\n",
              "      const buttonEl =\n",
              "        document.querySelector('#df-d340d59a-e848-449f-bc19-5682d656c846 button.colab-df-convert');\n",
              "      buttonEl.style.display =\n",
              "        google.colab.kernel.accessAllowed ? 'block' : 'none';\n",
              "\n",
              "      async function convertToInteractive(key) {\n",
              "        const element = document.querySelector('#df-d340d59a-e848-449f-bc19-5682d656c846');\n",
              "        const dataTable =\n",
              "          await google.colab.kernel.invokeFunction('convertToInteractive',\n",
              "                                                    [key], {});\n",
              "        if (!dataTable) return;\n",
              "\n",
              "        const docLinkHtml = 'Like what you see? Visit the ' +\n",
              "          '<a target=\"_blank\" href=https://colab.research.google.com/notebooks/data_table.ipynb>data table notebook</a>'\n",
              "          + ' to learn more about interactive tables.';\n",
              "        element.innerHTML = '';\n",
              "        dataTable['output_type'] = 'display_data';\n",
              "        await google.colab.output.renderOutput(dataTable, element);\n",
              "        const docLink = document.createElement('div');\n",
              "        docLink.innerHTML = docLinkHtml;\n",
              "        element.appendChild(docLink);\n",
              "      }\n",
              "    </script>\n",
              "  </div>\n",
              "\n",
              "\n",
              "<div id=\"df-60f698c6-bda3-4547-bc26-17681a41f36e\">\n",
              "  <button class=\"colab-df-quickchart\" onclick=\"quickchart('df-60f698c6-bda3-4547-bc26-17681a41f36e')\"\n",
              "            title=\"Suggest charts\"\n",
              "            style=\"display:none;\">\n",
              "\n",
              "<svg xmlns=\"http://www.w3.org/2000/svg\" height=\"24px\"viewBox=\"0 0 24 24\"\n",
              "     width=\"24px\">\n",
              "    <g>\n",
              "        <path d=\"M19 3H5c-1.1 0-2 .9-2 2v14c0 1.1.9 2 2 2h14c1.1 0 2-.9 2-2V5c0-1.1-.9-2-2-2zM9 17H7v-7h2v7zm4 0h-2V7h2v10zm4 0h-2v-4h2v4z\"/>\n",
              "    </g>\n",
              "</svg>\n",
              "  </button>\n",
              "\n",
              "<style>\n",
              "  .colab-df-quickchart {\n",
              "      --bg-color: #E8F0FE;\n",
              "      --fill-color: #1967D2;\n",
              "      --hover-bg-color: #E2EBFA;\n",
              "      --hover-fill-color: #174EA6;\n",
              "      --disabled-fill-color: #AAA;\n",
              "      --disabled-bg-color: #DDD;\n",
              "  }\n",
              "\n",
              "  [theme=dark] .colab-df-quickchart {\n",
              "      --bg-color: #3B4455;\n",
              "      --fill-color: #D2E3FC;\n",
              "      --hover-bg-color: #434B5C;\n",
              "      --hover-fill-color: #FFFFFF;\n",
              "      --disabled-bg-color: #3B4455;\n",
              "      --disabled-fill-color: #666;\n",
              "  }\n",
              "\n",
              "  .colab-df-quickchart {\n",
              "    background-color: var(--bg-color);\n",
              "    border: none;\n",
              "    border-radius: 50%;\n",
              "    cursor: pointer;\n",
              "    display: none;\n",
              "    fill: var(--fill-color);\n",
              "    height: 32px;\n",
              "    padding: 0;\n",
              "    width: 32px;\n",
              "  }\n",
              "\n",
              "  .colab-df-quickchart:hover {\n",
              "    background-color: var(--hover-bg-color);\n",
              "    box-shadow: 0 1px 2px rgba(60, 64, 67, 0.3), 0 1px 3px 1px rgba(60, 64, 67, 0.15);\n",
              "    fill: var(--button-hover-fill-color);\n",
              "  }\n",
              "\n",
              "  .colab-df-quickchart-complete:disabled,\n",
              "  .colab-df-quickchart-complete:disabled:hover {\n",
              "    background-color: var(--disabled-bg-color);\n",
              "    fill: var(--disabled-fill-color);\n",
              "    box-shadow: none;\n",
              "  }\n",
              "\n",
              "  .colab-df-spinner {\n",
              "    border: 2px solid var(--fill-color);\n",
              "    border-color: transparent;\n",
              "    border-bottom-color: var(--fill-color);\n",
              "    animation:\n",
              "      spin 1s steps(1) infinite;\n",
              "  }\n",
              "\n",
              "  @keyframes spin {\n",
              "    0% {\n",
              "      border-color: transparent;\n",
              "      border-bottom-color: var(--fill-color);\n",
              "      border-left-color: var(--fill-color);\n",
              "    }\n",
              "    20% {\n",
              "      border-color: transparent;\n",
              "      border-left-color: var(--fill-color);\n",
              "      border-top-color: var(--fill-color);\n",
              "    }\n",
              "    30% {\n",
              "      border-color: transparent;\n",
              "      border-left-color: var(--fill-color);\n",
              "      border-top-color: var(--fill-color);\n",
              "      border-right-color: var(--fill-color);\n",
              "    }\n",
              "    40% {\n",
              "      border-color: transparent;\n",
              "      border-right-color: var(--fill-color);\n",
              "      border-top-color: var(--fill-color);\n",
              "    }\n",
              "    60% {\n",
              "      border-color: transparent;\n",
              "      border-right-color: var(--fill-color);\n",
              "    }\n",
              "    80% {\n",
              "      border-color: transparent;\n",
              "      border-right-color: var(--fill-color);\n",
              "      border-bottom-color: var(--fill-color);\n",
              "    }\n",
              "    90% {\n",
              "      border-color: transparent;\n",
              "      border-bottom-color: var(--fill-color);\n",
              "    }\n",
              "  }\n",
              "</style>\n",
              "\n",
              "  <script>\n",
              "    async function quickchart(key) {\n",
              "      const quickchartButtonEl =\n",
              "        document.querySelector('#' + key + ' button');\n",
              "      quickchartButtonEl.disabled = true;  // To prevent multiple clicks.\n",
              "      quickchartButtonEl.classList.add('colab-df-spinner');\n",
              "      try {\n",
              "        const charts = await google.colab.kernel.invokeFunction(\n",
              "            'suggestCharts', [key], {});\n",
              "      } catch (error) {\n",
              "        console.error('Error during call to suggestCharts:', error);\n",
              "      }\n",
              "      quickchartButtonEl.classList.remove('colab-df-spinner');\n",
              "      quickchartButtonEl.classList.add('colab-df-quickchart-complete');\n",
              "    }\n",
              "    (() => {\n",
              "      let quickchartButtonEl =\n",
              "        document.querySelector('#df-60f698c6-bda3-4547-bc26-17681a41f36e button');\n",
              "      quickchartButtonEl.style.display =\n",
              "        google.colab.kernel.accessAllowed ? 'block' : 'none';\n",
              "    })();\n",
              "  </script>\n",
              "</div>\n",
              "    </div>\n",
              "  </div>\n"
            ]
          },
          "metadata": {},
          "execution_count": 100
        }
      ]
    },
    {
      "cell_type": "code",
      "source": [
        "data.isnull().sum()"
      ],
      "metadata": {
        "colab": {
          "base_uri": "https://localhost:8080/"
        },
        "id": "mzo-YN5MXedB",
        "outputId": "8990dd28-2fb6-454b-fbcd-a727ee09bd2c"
      },
      "execution_count": null,
      "outputs": [
        {
          "output_type": "execute_result",
          "data": {
            "text/plain": [
              "YEAR       0\n",
              "JAN        0\n",
              "FEB        0\n",
              "MAR        0\n",
              "APR        0\n",
              "MAY        0\n",
              "JUN        0\n",
              "JUL        0\n",
              "AUG        0\n",
              "SEP        0\n",
              "OCT        0\n",
              "NOV        0\n",
              "DEC        0\n",
              "ANNUAL     0\n",
              "JAN-FEB    0\n",
              "MAR-MAY    0\n",
              "JUN-SEP    0\n",
              "OCT-DEC    0\n",
              "dtype: int64"
            ]
          },
          "metadata": {},
          "execution_count": 101
        }
      ]
    },
    {
      "cell_type": "code",
      "source": [
        "years = data[\"YEAR\"]\n",
        "annual = data[\"ANNUAL\"]"
      ],
      "metadata": {
        "id": "GxLRS7RtZFCG"
      },
      "execution_count": null,
      "outputs": []
    },
    {
      "cell_type": "code",
      "source": [
        "plt.plot(years,annual,'o')\n",
        "plt.xlabel(\"Years\")\n",
        "plt.ylabel(\"Annual\")"
      ],
      "metadata": {
        "colab": {
          "base_uri": "https://localhost:8080/",
          "height": 466
        },
        "id": "Vcni0aWhZuy0",
        "outputId": "15bd1620-24de-4974-a69c-24682e3a0333"
      },
      "execution_count": null,
      "outputs": [
        {
          "output_type": "execute_result",
          "data": {
            "text/plain": [
              "Text(0, 0.5, 'Annual')"
            ]
          },
          "metadata": {},
          "execution_count": 103
        },
        {
          "output_type": "display_data",
          "data": {
            "text/plain": [
              "<Figure size 640x480 with 1 Axes>"
            ],
            "image/png": "[encoded data removed]"
          },
          "metadata": {}
        }
      ]
    },
    {
      "cell_type": "code",
      "source": [
        "from sklearn.model_selection import train_test_split\n",
        "from sklearn.linear_model import LinearRegression\n",
        "import matplotlib.pyplot as plt"
      ],
      "metadata": {
        "id": "MePIncXob6q_"
      },
      "execution_count": null,
      "outputs": []
    },
    {
      "cell_type": "code",
      "source": [
        "x = data.iloc[:,0].values\n",
        "y = data.iloc[:,13].values\n"
      ],
      "metadata": {
        "id": "lxK3SDQMccgK"
      },
      "execution_count": null,
      "outputs": []
    },
    {
      "cell_type": "code",
      "source": [
        "x"
      ],
      "metadata": {
        "colab": {
          "base_uri": "https://localhost:8080/"
        },
        "id": "gfZSD-mbfrEE",
        "outputId": "4cb8367d-4d89-4523-90b4-0f82e4afc041"
      },
      "execution_count": null,
      "outputs": [
        {
          "output_type": "execute_result",
          "data": {
            "text/plain": [
              "array([1901, 1902, 1903, 1904, 1905, 1906, 1907, 1908, 1909, 1910, 1911,\n",
              "       1912, 1913, 1914, 1915, 1916, 1917, 1918, 1919, 1920, 1921, 1922,\n",
              "       1923, 1924, 1925, 1926, 1927, 1928, 1929, 1930, 1931, 1932, 1933,\n",
              "       1934, 1935, 1936, 1937, 1938, 1939, 1940, 1941, 1942, 1943, 1944,\n",
              "       1945, 1946, 1947, 1948, 1949, 1950, 1951, 1952, 1953, 1954, 1955,\n",
              "       1956, 1957, 1958, 1959, 1960, 1961, 1962, 1963, 1964, 1965, 1966,\n",
              "       1967, 1968, 1969, 1970, 1971, 1972, 1973, 1974, 1975, 1976, 1977,\n",
              "       1978, 1979, 1980, 1981, 1982, 1983, 1984, 1985, 1986, 1987, 1988,\n",
              "       1989, 1990, 1991, 1992, 1993, 1994, 1995, 1996, 1997, 1998, 1999,\n",
              "       2000, 2001, 2002, 2003, 2004, 2005, 2006, 2007, 2008, 2009, 2010,\n",
              "       2011, 2012, 2013, 2014, 2015, 2016, 2017])"
            ]
          },
          "metadata": {},
          "execution_count": 106
        }
      ]
    },
    {
      "cell_type": "code",
      "source": [
        "y"
      ],
      "metadata": {
        "colab": {
          "base_uri": "https://localhost:8080/"
        },
        "id": "Ga129F9Vf1AO",
        "outputId": "6b1734f1-1b79-4a89-9b3a-59b4b36839fb"
      },
      "execution_count": null,
      "outputs": [
        {
          "output_type": "execute_result",
          "data": {
            "text/plain": [
              "array([28.96, 29.22, 28.47, 28.49, 28.3 , 28.73, 28.65, 28.83, 28.38,\n",
              "       28.53, 28.62, 28.95, 28.67, 28.66, 28.94, 28.82, 28.11, 28.66,\n",
              "       28.66, 28.76, 28.86, 28.8 , 28.74, 28.8 , 28.67, 28.7 , 28.59,\n",
              "       28.98, 28.76, 28.65, 29.15, 29.09, 28.49, 29.03, 28.76, 28.71,\n",
              "       28.7 , 28.7 , 28.85, 28.88, 29.46, 28.98, 28.8 , 28.89, 28.97,\n",
              "       29.37, 28.84, 28.73, 28.89, 28.47, 29.09, 29.16, 29.43, 28.92,\n",
              "       28.76, 28.63, 28.64, 29.34, 29.02, 29.31, 28.72, 28.89, 29.04,\n",
              "       29.09, 29.16, 29.41, 29.14, 29.07, 29.61, 29.47, 29.15, 29.31,\n",
              "       29.44, 29.26, 28.89, 29.27, 29.41, 29.23, 29.63, 29.58, 29.32,\n",
              "       29.12, 29.11, 29.28, 29.61, 29.33, 29.72, 29.55, 29.18, 29.14,\n",
              "       29.32, 29.23, 29.55, 29.46, 30.18, 29.58, 29.05, 29.7 , 29.81,\n",
              "       29.75, 29.99, 30.23, 29.75, 29.79, 29.6 , 30.06, 29.84, 29.64,\n",
              "       30.3 , 30.13, 29.82, 29.81, 29.81, 29.72, 29.9 , 31.63, 31.42])"
            ]
          },
          "metadata": {},
          "execution_count": 107
        }
      ]
    },
    {
      "cell_type": "code",
      "source": [
        "type(x)"
      ],
      "metadata": {
        "colab": {
          "base_uri": "https://localhost:8080/"
        },
        "id": "1kR1sXXLgVw9",
        "outputId": "f2a689e2-6a22-42c1-a9e5-945903fc151d"
      },
      "execution_count": null,
      "outputs": [
        {
          "output_type": "execute_result",
          "data": {
            "text/plain": [
              "numpy.ndarray"
            ]
          },
          "metadata": {},
          "execution_count": 108
        }
      ]
    },
    {
      "cell_type": "code",
      "source": [
        "x = x.reshape(117,1)"
      ],
      "metadata": {
        "id": "9yOAL8cSgUdY"
      },
      "execution_count": null,
      "outputs": []
    },
    {
      "cell_type": "code",
      "source": [
        "x"
      ],
      "metadata": {
        "colab": {
          "base_uri": "https://localhost:8080/"
        },
        "id": "X7xN5ju-g62T",
        "outputId": "6965b62b-116e-4907-ea3a-337758b76eb2"
      },
      "execution_count": null,
      "outputs": [
        {
          "output_type": "execute_result",
          "data": {
            "text/plain": [
              "array([[1901],\n",
              "       [1902],\n",
              "       [1903],\n",
              "       [1904],\n",
              "       [1905],\n",
              "       [1906],\n",
              "       [1907],\n",
              "       [1908],\n",
              "       [1909],\n",
              "       [1910],\n",
              "       [1911],\n",
              "       [1912],\n",
              "       [1913],\n",
              "       [1914],\n",
              "       [1915],\n",
              "       [1916],\n",
              "       [1917],\n",
              "       [1918],\n",
              "       [1919],\n",
              "       [1920],\n",
              "       [1921],\n",
              "       [1922],\n",
              "       [1923],\n",
              "       [1924],\n",
              "       [1925],\n",
              "       [1926],\n",
              "       [1927],\n",
              "       [1928],\n",
              "       [1929],\n",
              "       [1930],\n",
              "       [1931],\n",
              "       [1932],\n",
              "       [1933],\n",
              "       [1934],\n",
              "       [1935],\n",
              "       [1936],\n",
              "       [1937],\n",
              "       [1938],\n",
              "       [1939],\n",
              "       [1940],\n",
              "       [1941],\n",
              "       [1942],\n",
              "       [1943],\n",
              "       [1944],\n",
              "       [1945],\n",
              "       [1946],\n",
              "       [1947],\n",
              "       [1948],\n",
              "       [1949],\n",
              "       [1950],\n",
              "       [1951],\n",
              "       [1952],\n",
              "       [1953],\n",
              "       [1954],\n",
              "       [1955],\n",
              "       [1956],\n",
              "       [1957],\n",
              "       [1958],\n",
              "       [1959],\n",
              "       [1960],\n",
              "       [1961],\n",
              "       [1962],\n",
              "       [1963],\n",
              "       [1964],\n",
              "       [1965],\n",
              "       [1966],\n",
              "       [1967],\n",
              "       [1968],\n",
              "       [1969],\n",
              "       [1970],\n",
              "       [1971],\n",
              "       [1972],\n",
              "       [1973],\n",
              "       [1974],\n",
              "       [1975],\n",
              "       [1976],\n",
              "       [1977],\n",
              "       [1978],\n",
              "       [1979],\n",
              "       [1980],\n",
              "       [1981],\n",
              "       [1982],\n",
              "       [1983],\n",
              "       [1984],\n",
              "       [1985],\n",
              "       [1986],\n",
              "       [1987],\n",
              "       [1988],\n",
              "       [1989],\n",
              "       [1990],\n",
              "       [1991],\n",
              "       [1992],\n",
              "       [1993],\n",
              "       [1994],\n",
              "       [1995],\n",
              "       [1996],\n",
              "       [1997],\n",
              "       [1998],\n",
              "       [1999],\n",
              "       [2000],\n",
              "       [2001],\n",
              "       [2002],\n",
              "       [2003],\n",
              "       [2004],\n",
              "       [2005],\n",
              "       [2006],\n",
              "       [2007],\n",
              "       [2008],\n",
              "       [2009],\n",
              "       [2010],\n",
              "       [2011],\n",
              "       [2012],\n",
              "       [2013],\n",
              "       [2014],\n",
              "       [2015],\n",
              "       [2016],\n",
              "       [2017]])"
            ]
          },
          "metadata": {},
          "execution_count": 110
        }
      ]
    },
    {
      "cell_type": "code",
      "source": [
        "x.ndim"
      ],
      "metadata": {
        "colab": {
          "base_uri": "https://localhost:8080/"
        },
        "id": "McaImzVShyDr",
        "outputId": "768af119-ef18-432d-f4c8-4a9aa7529382"
      },
      "execution_count": null,
      "outputs": [
        {
          "output_type": "execute_result",
          "data": {
            "text/plain": [
              "2"
            ]
          },
          "metadata": {},
          "execution_count": 111
        }
      ]
    },
    {
      "cell_type": "code",
      "source": [
        "x_train, x_test, y_train, y_test = train_test_split(x, y,test_size=0.25)\n",
        "\n",
        "print(f\"x Training dataset: {x_train.shape}\")\n",
        "print(f\"y Training dataset: {y_train.shape}\")\n",
        "print(f\"x test dataset: {x_test.shape}\")\n",
        "print(f\"y test dataset: {y_test.shape}\")"
      ],
      "metadata": {
        "colab": {
          "base_uri": "https://localhost:8080/"
        },
        "id": "oM0hmhOYcS7t",
        "outputId": "753b7669-5661-49b9-eeb7-536dc5c53e61"
      },
      "execution_count": null,
      "outputs": [
        {
          "output_type": "stream",
          "name": "stdout",
          "text": [
            "x Training dataset: (87, 1)\n",
            "y Training dataset: (87,)\n",
            "x test dataset: (30, 1)\n",
            "y test dataset: (30,)\n"
          ]
        }
      ]
    },
    {
      "cell_type": "code",
      "source": [
        "model = LinearRegression()"
      ],
      "metadata": {
        "id": "Zv_eLizGdPt3"
      },
      "execution_count": null,
      "outputs": []
    },
    {
      "cell_type": "code",
      "source": [
        "model.fit(x_train,y_train)"
      ],
      "metadata": {
        "colab": {
          "base_uri": "https://localhost:8080/",
          "height": 74
        },
        "id": "BmzZ2-12djBP",
        "outputId": "45338fb9-6c1a-44cc-e013-f010b4550c4d"
      },
      "execution_count": null,
      "outputs": [
        {
          "output_type": "execute_result",
          "data": {
            "text/plain": [
              "LinearRegression()"
            ],
            "text/html": [
              "<style>#sk-container-id-2 {color: black;background-color: white;}#sk-container-id-2 pre{padding: 0;}#sk-container-id-2 div.sk-toggleable {background-color: white;}#sk-container-id-2 label.sk-toggleable__label {cursor: pointer;display: block;width: 100%;margin-bottom: 0;padding: 0.3em;box-sizing: border-box;text-align: center;}#sk-container-id-2 label.sk-toggleable__label-arrow:before {content: \"▸\";float: left;margin-right: 0.25em;color: #696969;}#sk-container-id-2 label.sk-toggleable__label-arrow:hover:before {color: black;}#sk-container-id-2 div.sk-estimator:hover label.sk-toggleable__label-arrow:before {color: black;}#sk-container-id-2 div.sk-toggleable__content {max-height: 0;max-width: 0;overflow: hidden;text-align: left;background-color: #f0f8ff;}#sk-container-id-2 div.sk-toggleable__content pre {margin: 0.2em;color: black;border-radius: 0.25em;background-color: #f0f8ff;}#sk-container-id-2 input.sk-toggleable__control:checked~div.sk-toggleable__content {max-height: 200px;max-width: 100%;overflow: auto;}#sk-container-id-2 input.sk-toggleable__control:checked~label.sk-toggleable__label-arrow:before {content: \"▾\";}#sk-container-id-2 div.sk-estimator input.sk-toggleable__control:checked~label.sk-toggleable__label {background-color: #d4ebff;}#sk-container-id-2 div.sk-label input.sk-toggleable__control:checked~label.sk-toggleable__label {background-color: #d4ebff;}#sk-container-id-2 input.sk-hidden--visually {border: 0;clip: rect(1px 1px 1px 1px);clip: rect(1px, 1px, 1px, 1px);height: 1px;margin: -1px;overflow: hidden;padding: 0;position: absolute;width: 1px;}#sk-container-id-2 div.sk-estimator {font-family: monospace;background-color: #f0f8ff;border: 1px dotted black;border-radius: 0.25em;box-sizing: border-box;margin-bottom: 0.5em;}#sk-container-id-2 div.sk-estimator:hover {background-color: #d4ebff;}#sk-container-id-2 div.sk-parallel-item::after {content: \"\";width: 100%;border-bottom: 1px solid gray;flex-grow: 1;}#sk-container-id-2 div.sk-label:hover label.sk-toggleable__label {background-color: #d4ebff;}#sk-container-id-2 div.sk-serial::before {content: \"\";position: absolute;border-left: 1px solid gray;box-sizing: border-box;top: 0;bottom: 0;left: 50%;z-index: 0;}#sk-container-id-2 div.sk-serial {display: flex;flex-direction: column;align-items: center;background-color: white;padding-right: 0.2em;padding-left: 0.2em;position: relative;}#sk-container-id-2 div.sk-item {position: relative;z-index: 1;}#sk-container-id-2 div.sk-parallel {display: flex;align-items: stretch;justify-content: center;background-color: white;position: relative;}#sk-container-id-2 div.sk-item::before, #sk-container-id-2 div.sk-parallel-item::before {content: \"\";position: absolute;border-left: 1px solid gray;box-sizing: border-box;top: 0;bottom: 0;left: 50%;z-index: -1;}#sk-container-id-2 div.sk-parallel-item {display: flex;flex-direction: column;z-index: 1;position: relative;background-color: white;}#sk-container-id-2 div.sk-parallel-item:first-child::after {align-self: flex-end;width: 50%;}#sk-container-id-2 div.sk-parallel-item:last-child::after {align-self: flex-start;width: 50%;}#sk-container-id-2 div.sk-parallel-item:only-child::after {width: 0;}#sk-container-id-2 div.sk-dashed-wrapped {border: 1px dashed gray;margin: 0 0.4em 0.5em 0.4em;box-sizing: border-box;padding-bottom: 0.4em;background-color: white;}#sk-container-id-2 div.sk-label label {font-family: monospace;font-weight: bold;display: inline-block;line-height: 1.2em;}#sk-container-id-2 div.sk-label-container {text-align: center;}#sk-container-id-2 div.sk-container {/* jupyter's `normalize.less` sets `[hidden] { display: none; }` but bootstrap.min.css set `[hidden] { display: none !important; }` so we also need the `!important` here to be able to override the default hidden behavior on the sphinx rendered scikit-learn.org. See: https://github.com/scikit-learn/scikit-learn/issues/21755 */display: inline-block !important;position: relative;}#sk-container-id-2 div.sk-text-repr-fallback {display: none;}</style><div id=\"sk-container-id-2\" class=\"sk-top-container\"><div class=\"sk-text-repr-fallback\"><pre>LinearRegression()</pre><b>In a Jupyter environment, please rerun this cell to show the HTML representation or trust the notebook. <br />On GitHub, the HTML representation is unable to render, please try loading this page with nbviewer.org.</b></div><div class=\"sk-container\" hidden><div class=\"sk-item\"><div class=\"sk-estimator sk-toggleable\"><input class=\"sk-toggleable__control sk-hidden--visually\" id=\"sk-estimator-id-2\" type=\"checkbox\" checked><label for=\"sk-estimator-id-2\" class=\"sk-toggleable__label sk-toggleable__label-arrow\">LinearRegression</label><div class=\"sk-toggleable__content\"><pre>LinearRegression()</pre></div></div></div></div></div>"
            ]
          },
          "metadata": {},
          "execution_count": 114
        }
      ]
    },
    {
      "cell_type": "code",
      "source": [
        "model.coef_"
      ],
      "metadata": {
        "colab": {
          "base_uri": "https://localhost:8080/"
        },
        "id": "6YaKQMQlgtTL",
        "outputId": "ec59d9e6-f063-42cf-c8cb-a790597d694f"
      },
      "execution_count": null,
      "outputs": [
        {
          "output_type": "execute_result",
          "data": {
            "text/plain": [
              "array([0.01357327])"
            ]
          },
          "metadata": {},
          "execution_count": 115
        }
      ]
    },
    {
      "cell_type": "code",
      "source": [
        "model.intercept_"
      ],
      "metadata": {
        "colab": {
          "base_uri": "https://localhost:8080/"
        },
        "id": "tkvEvlpKgxz9",
        "outputId": "6321272b-b9a9-408b-b018-5573bcae7ec1"
      },
      "execution_count": null,
      "outputs": [
        {
          "output_type": "execute_result",
          "data": {
            "text/plain": [
              "2.5973840130400667"
            ]
          },
          "metadata": {},
          "execution_count": 116
        }
      ]
    },
    {
      "cell_type": "code",
      "source": [
        "y_pred = model.predict(x_test)"
      ],
      "metadata": {
        "id": "N1oSa3VQhThE"
      },
      "execution_count": null,
      "outputs": []
    },
    {
      "cell_type": "code",
      "source": [
        "y_pred.shape"
      ],
      "metadata": {
        "colab": {
          "base_uri": "https://localhost:8080/"
        },
        "id": "jqDaHw9nhUrl",
        "outputId": "6dbb7baa-0916-4e0f-9d53-ae81f7ab97d2"
      },
      "execution_count": null,
      "outputs": [
        {
          "output_type": "execute_result",
          "data": {
            "text/plain": [
              "(30,)"
            ]
          },
          "metadata": {},
          "execution_count": 118
        }
      ]
    },
    {
      "cell_type": "code",
      "source": [
        "plt.scatter(x_train, y_train, color='green')\n",
        "plt.plot(x_test, y_pred, color='blue', linewidth=3)\n",
        "plt.title(\"Temperature vs Year\")\n",
        "plt.xlabel(\"Year\")\n",
        "plt.ylabel(\"Temperature\")\n",
        "plt.show()"
      ],
      "metadata": {
        "colab": {
          "base_uri": "https://localhost:8080/",
          "height": 472
        },
        "id": "uSINyu1phdf4",
        "outputId": "fac350fb-02cc-42c1-be62-db03e29600e7"
      },
      "execution_count": null,
      "outputs": [
        {
          "output_type": "display_data",
          "data": {
            "text/plain": [
              "<Figure size 640x480 with 1 Axes>"
            ],
            "image/png": "[encoded data removed]"
          },
          "metadata": {}
        }
      ]
    },
    {
      "cell_type": "code",
      "source": [
        "sns.regplot(data,x=x_train,y=y_train,color=\"black\",label=\"Temperature vs Year\")"
      ],
      "metadata": {
        "colab": {
          "base_uri": "https://localhost:8080/",
          "height": 447
        },
        "id": "7LfE2l6piWpy",
        "outputId": "594bea03-d94f-41d3-ba1e-28416bf95b81"
      },
      "execution_count": null,
      "outputs": [
        {
          "output_type": "execute_result",
          "data": {
            "text/plain": [
              "<Axes: >"
            ]
          },
          "metadata": {},
          "execution_count": 120
        },
        {
          "output_type": "display_data",
          "data": {
            "text/plain": [
              "<Figure size 640x480 with 1 Axes>"
            ],
            "image/png": "[encoded data removed]"
          },
          "metadata": {}
        }
      ]
    },
    {
      "cell_type": "code",
      "source": [
        "from sklearn.metrics import mean_absolute_error,mean_squared_error,r2_score\n",
        "print(f\"MSE:  {mean_squared_error(y_test,y_pred)}\")\n",
        "print(f\"MAE:  {mean_absolute_error(y_test,y_pred)}\")\n",
        "print(f\"R-Sqaure :  {r2_score(y_test,y_pred)}\")"
      ],
      "metadata": {
        "colab": {
          "base_uri": "https://localhost:8080/"
        },
        "id": "hMZCC21gidlx",
        "outputId": "82456715-818b-454b-b466-68f48dc8805a"
      },
      "execution_count": null,
      "outputs": [
        {
          "output_type": "stream",
          "name": "stdout",
          "text": [
            "MSE:  0.05500578689266352\n",
            "MAE:  0.18058682767046969\n",
            "R-Sqaure :  0.7885915133615444\n"
          ]
        }
      ]
    },
    {
      "cell_type": "code",
      "source": [],
      "metadata": {
        "id": "3pMORDJpk-G8"
      },
      "execution_count": null,
      "outputs": []
    }
  ]
}